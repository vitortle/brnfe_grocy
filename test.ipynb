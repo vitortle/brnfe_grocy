{
 "cells": [
  {
   "cell_type": "code",
   "execution_count": 10,
   "metadata": {},
   "outputs": [],
   "source": [
    "import json"
   ]
  },
  {
   "cell_type": "code",
   "execution_count": 11,
   "metadata": {},
   "outputs": [
    {
     "data": {
      "text/plain": [
       "{'header': {'key': 'CFe35250305364327000247590005430605608651821147',\n",
       "  'cfid': '560865',\n",
       "  'date': '2025-03-12 20:12:44',\n",
       "  'cnpj': '05.364.327/0002-47',\n",
       "  'state_registration_number': '374.067.858.116',\n",
       "  'municipal_registration_number': '00000000000000',\n",
       "  'trade_number': 'REDE ROFATTO DE SUPERMERCADOS',\n",
       "  'company_name': 'REDE ROFATTO DE SUPERMERCADOS LTDA',\n",
       "  'address': 'RUA RUI BARBOSA, 270',\n",
       "  'area': 'CENTRO',\n",
       "  'city': 'ITAPIRA',\n",
       "  'state_number': '35',\n",
       "  'tax_code': 'Regime Normal',\n",
       "  'ISSQN_special_tax': 'Não Informado',\n",
       "  'discount_indicator': 'Sim'},\n",
       " 'items': [{'item': '1',\n",
       "   'description': 'PAPEL HIG NEVE 20M 12UN',\n",
       "   'qtty': '1,0000',\n",
       "   'unit': 'UN',\n",
       "   'liquid_price': '18,99',\n",
       "   'aditional_info': 'Não Informado',\n",
       "   'product_code': '148163',\n",
       "   'gtin_code': '7891172523434',\n",
       "   'ncm_code': '48181000',\n",
       "   'Código Especificador da Substituição Tributária': 'Não Informado',\n",
       "   'cfop': '5405',\n",
       "   'unit_price': '18,990',\n",
       "   'gross_price': '18,99',\n",
       "   'calc_rule': 'A',\n",
       "   'discount': 'Não Informado',\n",
       "   'Outras Despesas Acessórias': 'Não Informado',\n",
       "   'Rateio do Desconto Sobre Subtotal': 'Não Informado',\n",
       "   'Rateio do Acréscimo Sobre Subtotal': 'Não Informado',\n",
       "   'Observações Fisco': 'Cod. CEST 2004300',\n",
       "   'Origem da Mercadoria': '0 - Nacional, exceto as indicadas nos códigos 3, 4, 5 e 8',\n",
       "   'Tributação do ICMS': '60 - ICMS cobrado anteriormente por substituição tributária ou por antecipação com encerramento de tributação',\n",
       "   'Cód. de Situação da Operação - Simples Nacional': 'Não Informado',\n",
       "   'Alíquota Efetiva': 'Não Informado',\n",
       "   'icms_value': 'Não Informado',\n",
       "   'Código de Situação Tributária PIS': '06 - Operação Tributável (Alíquota zero)',\n",
       "   'Valor da Base de Cálculo do PIS': 'Não Informado',\n",
       "   'Alíquota do PIS': 'Não Informado',\n",
       "   'Quantidade Vendida PIS': 'Não Informado',\n",
       "   'pis_value': 'Não Informado',\n",
       "   'Valor da Base de Cálculo do PIS ST': 'Não Informado',\n",
       "   'Alíquota do PIS ST': 'Não Informado',\n",
       "   'Quantidade Vendida PIS ST': 'Não Informado',\n",
       "   'pis_st_value': 'Não Informado',\n",
       "   'Código de Situação Tributária da COFINS': '06 - Operação Tributável (Alíquota zero)',\n",
       "   'Valor da Base de Cálculo da COFINS': 'Não Informado',\n",
       "   'Alíquota da COFINS': 'Não Informado',\n",
       "   'cofins_value': 'Não Informado',\n",
       "   'Quantidade Vendida COFINS': 'Não Informado',\n",
       "   'Valor da Base de Cálculo da COFINS ST': 'Não Informado',\n",
       "   'Alíquota da COFINS ST': 'Não Informado',\n",
       "   'confins_st_value': 'Não Informado',\n",
       "   'Quantidade Vendida COFINS ST': 'Não Informado',\n",
       "   'Valor de Deduções para ISSQN': 'Não Informado',\n",
       "   'Valor da Base de Cálculo do ISSQN': 'Não Informado',\n",
       "   'Alíquota do ISSQN': 'Não Informado',\n",
       "   'issqn_value': 'Não Informado',\n",
       "   'Item da Lista de Serviços': 'Não Informado',\n",
       "   'Código do Município do Fato Gerador do ISSQN': 'Não Informado',\n",
       "   'Código de Tributação pelo ISSQN do Município': 'Não Informado',\n",
       "   'Natureza da Operação de ISSQN': 'Não Informado',\n",
       "   'Incentivo Fiscal do ISSQN': '2 - Não',\n",
       "   'total_tax_value': '3,06'},\n",
       "  {'item': '2',\n",
       "   'description': 'SH CLEAR 200ML QUEDA',\n",
       "   'qtty': '1,0000',\n",
       "   'unit': 'UN',\n",
       "   'liquid_price': '11,90',\n",
       "   'aditional_info': 'Não Informado',\n",
       "   'product_code': '218839',\n",
       "   'gtin_code': '7891150001077',\n",
       "   'ncm_code': '33051000',\n",
       "   'Código Especificador da Substituição Tributária': 'Não Informado',\n",
       "   'cfop': '5405',\n",
       "   'unit_price': '11,900',\n",
       "   'gross_price': '11,90',\n",
       "   'calc_rule': 'A',\n",
       "   'discount': 'Não Informado',\n",
       "   'Outras Despesas Acessórias': 'Não Informado',\n",
       "   'Rateio do Desconto Sobre Subtotal': 'Não Informado',\n",
       "   'Rateio do Acréscimo Sobre Subtotal': 'Não Informado',\n",
       "   'Observações Fisco': 'Cod. CEST 2001700',\n",
       "   'Origem da Mercadoria': '0 - Nacional, exceto as indicadas nos códigos 3, 4, 5 e 8',\n",
       "   'Tributação do ICMS': '60 - ICMS cobrado anteriormente por substituição tributária ou por antecipação com encerramento de tributação',\n",
       "   'Cód. de Situação da Operação - Simples Nacional': 'Não Informado',\n",
       "   'Alíquota Efetiva': 'Não Informado',\n",
       "   'icms_value': 'Não Informado',\n",
       "   'Código de Situação Tributária PIS': '04 - Operação Tributável (operação monofásica (alíquota zero))',\n",
       "   'Valor da Base de Cálculo do PIS': 'Não Informado',\n",
       "   'Alíquota do PIS': 'Não Informado',\n",
       "   'Quantidade Vendida PIS': 'Não Informado',\n",
       "   'pis_value': 'Não Informado',\n",
       "   'Valor da Base de Cálculo do PIS ST': 'Não Informado',\n",
       "   'Alíquota do PIS ST': 'Não Informado',\n",
       "   'Quantidade Vendida PIS ST': 'Não Informado',\n",
       "   'pis_st_value': 'Não Informado',\n",
       "   'Código de Situação Tributária da COFINS': '04 - Operação Tributável (tributação monofásica (alíquota zero))',\n",
       "   'Valor da Base de Cálculo da COFINS': 'Não Informado',\n",
       "   'Alíquota da COFINS': 'Não Informado',\n",
       "   'cofins_value': 'Não Informado',\n",
       "   'Quantidade Vendida COFINS': 'Não Informado',\n",
       "   'Valor da Base de Cálculo da COFINS ST': 'Não Informado',\n",
       "   'Alíquota da COFINS ST': 'Não Informado',\n",
       "   'confins_st_value': 'Não Informado',\n",
       "   'Quantidade Vendida COFINS ST': 'Não Informado',\n",
       "   'Valor de Deduções para ISSQN': 'Não Informado',\n",
       "   'Valor da Base de Cálculo do ISSQN': 'Não Informado',\n",
       "   'Alíquota do ISSQN': 'Não Informado',\n",
       "   'issqn_value': 'Não Informado',\n",
       "   'Item da Lista de Serviços': 'Não Informado',\n",
       "   'Código do Município do Fato Gerador do ISSQN': 'Não Informado',\n",
       "   'Código de Tributação pelo ISSQN do Município': 'Não Informado',\n",
       "   'Natureza da Operação de ISSQN': 'Não Informado',\n",
       "   'Incentivo Fiscal do ISSQN': '2 - Não',\n",
       "   'total_tax_value': '5,34'}]}"
      ]
     },
     "execution_count": 11,
     "metadata": {},
     "output_type": "execute_result"
    }
   ],
   "source": [
    "with open('dump/35250305364327000247590005430605608651821147.json') as f:\n",
    "    data = json.load(f)\n",
    "\n",
    "data"
   ]
  },
  {
   "cell_type": "code",
   "execution_count": 16,
   "metadata": {},
   "outputs": [
    {
     "data": {
      "text/plain": [
       "{'item': '1',\n",
       " 'description': 'PAPEL HIG NEVE 20M 12UN',\n",
       " 'qtty': '1,0000',\n",
       " 'unit': 'UN',\n",
       " 'liquid_price': '18,99',\n",
       " 'aditional_info': 'Não Informado',\n",
       " 'product_code': '148163',\n",
       " 'gtin_code': '7891172523434',\n",
       " 'ncm_code': '48181000',\n",
       " 'Código Especificador da Substituição Tributária': 'Não Informado',\n",
       " 'cfop': '5405',\n",
       " 'unit_price': '18,990',\n",
       " 'gross_price': '18,99',\n",
       " 'calc_rule': 'A',\n",
       " 'discount': 'Não Informado',\n",
       " 'Outras Despesas Acessórias': 'Não Informado',\n",
       " 'Rateio do Desconto Sobre Subtotal': 'Não Informado',\n",
       " 'Rateio do Acréscimo Sobre Subtotal': 'Não Informado',\n",
       " 'Observações Fisco': 'Cod. CEST 2004300',\n",
       " 'Origem da Mercadoria': '0 - Nacional, exceto as indicadas nos códigos 3, 4, 5 e 8',\n",
       " 'Tributação do ICMS': '60 - ICMS cobrado anteriormente por substituição tributária ou por antecipação com encerramento de tributação',\n",
       " 'Cód. de Situação da Operação - Simples Nacional': 'Não Informado',\n",
       " 'Alíquota Efetiva': 'Não Informado',\n",
       " 'icms_value': 'Não Informado',\n",
       " 'Código de Situação Tributária PIS': '06 - Operação Tributável (Alíquota zero)',\n",
       " 'Valor da Base de Cálculo do PIS': 'Não Informado',\n",
       " 'Alíquota do PIS': 'Não Informado',\n",
       " 'Quantidade Vendida PIS': 'Não Informado',\n",
       " 'pis_value': 'Não Informado',\n",
       " 'Valor da Base de Cálculo do PIS ST': 'Não Informado',\n",
       " 'Alíquota do PIS ST': 'Não Informado',\n",
       " 'Quantidade Vendida PIS ST': 'Não Informado',\n",
       " 'pis_st_value': 'Não Informado',\n",
       " 'Código de Situação Tributária da COFINS': '06 - Operação Tributável (Alíquota zero)',\n",
       " 'Valor da Base de Cálculo da COFINS': 'Não Informado',\n",
       " 'Alíquota da COFINS': 'Não Informado',\n",
       " 'cofins_value': 'Não Informado',\n",
       " 'Quantidade Vendida COFINS': 'Não Informado',\n",
       " 'Valor da Base de Cálculo da COFINS ST': 'Não Informado',\n",
       " 'Alíquota da COFINS ST': 'Não Informado',\n",
       " 'confins_st_value': 'Não Informado',\n",
       " 'Quantidade Vendida COFINS ST': 'Não Informado',\n",
       " 'Valor de Deduções para ISSQN': 'Não Informado',\n",
       " 'Valor da Base de Cálculo do ISSQN': 'Não Informado',\n",
       " 'Alíquota do ISSQN': 'Não Informado',\n",
       " 'issqn_value': 'Não Informado',\n",
       " 'Item da Lista de Serviços': 'Não Informado',\n",
       " 'Código do Município do Fato Gerador do ISSQN': 'Não Informado',\n",
       " 'Código de Tributação pelo ISSQN do Município': 'Não Informado',\n",
       " 'Natureza da Operação de ISSQN': 'Não Informado',\n",
       " 'Incentivo Fiscal do ISSQN': '2 - Não',\n",
       " 'total_tax_value': '3,06'}"
      ]
     },
     "execution_count": 16,
     "metadata": {},
     "output_type": "execute_result"
    }
   ],
   "source": [
    "data['items'][0]"
   ]
  },
  {
   "cell_type": "code",
   "execution_count": 22,
   "metadata": {},
   "outputs": [],
   "source": [
    "import requests\n",
    "\n",
    "req = requests.get('https://www.nfce.fazenda.sp.gov.br/NFCeConsultaPublica/Paginas/ConsultaQRCode.aspx?p=35250331646453000113650010000079261010079269|2|1|1|A65AD3C1C3F628DEE32AE950D4C62BF9220F320D')"
   ]
  },
  {
   "cell_type": "code",
   "execution_count": 23,
   "metadata": {},
   "outputs": [
    {
     "data": {
      "text/plain": [
       "b'\\r\\n\\r\\n<!DOCTYPE html>\\r\\n<html lang=\"pt-br\" dir=\"ltr\">\\r\\n<head id=\"Head\"><title>\\r\\n\\tConsulta Resumida NFC-e - Secretaria da Fazenda - Governo do Estado de S\\xc3\\xa3o Paulo\\r\\n</title><meta charset=\"utf-8\" /><meta name=\"viewport\" content=\"width=device-width,&#32;initial-scale=1\" /><meta http-equiv=\"X-UA-Compatible\" content=\"IE=9,&#32;IE=edge\" /><meta name=\"format-detection\" content=\"telephone=no\" />\\r\\n    <script src=\"../Xsl/nfce_rj_v2.05/js/jquery.js\"></script>\\r\\n    <script type=\"text/javascript\">\\r\\n\\r\\n        $(document).ready(function () {\\r\\n            $(\\'body\\').hide();\\r\\n            $(\\'.ui-filterable input\\').placeholder();\\r\\n            ExibirImagemCancelada();\\r\\n            ExibirImagemDenegada();\\r\\n            setTimeout(AjustarExibicaoEPEC, 200);\\r\\n            setTimeout(function () {\\r\\n                $(\\'body\\').show()\\r\\n            }, 400);\\r\\n        });\\r\\n\\r\\n        $(window).resize(function () {\\r\\n            setTimeout(AjustarExibicaoEPEC, 300);\\r\\n            $(\\'body\\').hide();\\r\\n            setTimeout(function () {\\r\\n                $(\\'body\\').show()\\r\\n            }, 400);\\r\\n        });\\r\\n    </script>\\r\\n\\r\\n    <script src=\"../Xsl/nfce_rj_v2.05/js/index.js\"></script>\\r\\n    <script src=\"../Xsl/nfce_rj_v2.05/js/jquery.mobile-1.4.5.min.js\"></script>\\r\\n    <script src=\"../Xsl/nfce_rj_v1.00/js/jquery.placeholder.min.js\"></script>\\r\\n    <link rel=\"stylesheet\" media=\"all\" href=\"../Xsl/nfce_rj_v2.05/css/jquery.mobile-1.4.5.min.css\" type=\"text/css\" /><link rel=\"stylesheet\" media=\"all\" href=\"../Xsl/nfce_rj_v2.05/css/nfceMob.css\" type=\"text/css\" /><link rel=\"stylesheet\" media=\"all\" href=\"../Xsl/nfce_rj_v2.05/css/nfceMob_ie.css\" type=\"text/css\" /><link rel=\"stylesheet\" media=\"all\" href=\"../Content/botoes.css\" type=\"text/css\" />\\r\\n    <style>\\r\\n        .msgErro {\\r\\n            font-size: 80%;\\r\\n            font-weight: bold;\\r\\n            color: Red;\\r\\n        }\\r\\n\\r\\n        .BotoesResponsivos input:first-child {\\r\\n            margin-left: 2px;\\r\\n        }\\r\\n\\r\\n        #erro {\\r\\n            margin-top:250px;\\r\\n        }\\r\\n\\r\\n        @media print {\\r\\n            .naoImprimir {\\r\\n                display: none;\\r\\n                visibility: hidden;\\r\\n            }\\r\\n            #erro {\\r\\n                max-height:none !important;\\r\\n            }\\r\\n            body {\\r\\n                height:99% !important;\\r\\n            }\\r\\n        }\\r\\n    </style>\\r\\n</head>\\r\\n<body >\\r\\n    <form method=\"post\" action=\"ConsultaResponsiva/ConsultaResumidaRJFrame_v400.aspx\" id=\"ctl00\">\\r\\n<div class=\"aspNetHidden\">\\r\\n<input type=\"hidden\" name=\"__VIEWSTATE\" id=\"__VIEWSTATE\" value=\"JSneJkzpRcUmqTtW3Gs+zmkef34WhwQA4+YR9LEDfN3sjsWY626O0o4Oz8GCuX15PQxqQZAA2BejKFA308Egddx0CKRub6oz7CjirWWOYYS1xHiEKMm5ljqnwwBK97QQvW3CDtYFuU7lPy7A9QZ+3sMu/LBYYtvkObRsauCV4cTtsReHAjLSTrGfxDcgTID/CZO3wdnk+T+sSr1IPzla1+tPImc5ABa5kGZcosVxOFw=\" />\\r\\n</div>\\r\\n\\r\\n        <div style=\"width: 100%; max-width: 510px; margin: 10px auto;\">\\r\\n            \\r\\n            \\r\\n            \\r\\n            <div data-role=\"page\" style=\"position: relative;\">\\r\\n                <div data-role=\"header\" xmlns:n=\"http://www.portalfiscal.inf.br/nfe\" xmlns:chave=\"http://exslt.org/chaveacesso\" xmlns:r=\"http://www.serpro.gov.br/nfe/remessanfe.xsd\">\\r\\n  <h1 class=\"tit\">\\r\\n    <img src=\"../Xsl/nfce_rj_v2.05/imagens/logoNFCe.png\" width=\"90\" height=\"64\" alt=\"NFC-e\">\\r\\n    <p>DOCUMENTO AUXILIAR DA NOTA FISCAL DE CONSUMIDOR ELETR\\xc3\\x94NICA</p>\\r\\n    <p>\\r\\n    </p>\\r\\n  </h1>\\r\\n</div>\\r\\n<div data-role=\"content\" xmlns:n=\"http://www.portalfiscal.inf.br/nfe\" xmlns:chave=\"http://exslt.org/chaveacesso\" xmlns:r=\"http://www.serpro.gov.br/nfe/remessanfe.xsd\">\\r\\n  <div id=\"conteudo\">\\r\\n    <div id=\"avisos\">\\r\\n    </div>\\r\\n    <div class=\"txtCenter\">\\r\\n      <div id=\"u20\" class=\"txtTopo\">MALUTHE COMERCIO DE CONFECCOES E CALCADOS LTDA</div>\\r\\n      <div class=\"text\">\\r\\n\\t\\t\\t\\t\\t\\t\\t\\tCNPJ:\\r\\n\\t\\t\\t\\t\\t\\t\\t\\t31.646.453/0001-13</div>\\r\\n      <div class=\"text\">AVENIDA GUILHERME CAMPOS\\r\\n\\t\\t\\t\\t\\t\\t\\t,\\r\\n\\t\\t\\t\\t\\t\\t\\t500\\r\\n\\t\\t\\t\\t\\t\\t\\t,\\r\\n\\t\\t\\t\\t\\t\\t\\t\\r\\n\\t\\t\\t\\t\\t\\t\\t,\\r\\n\\t\\t\\t\\t\\t\\t\\tJARDIM SANTA GENEBRA\\r\\n\\t\\t\\t\\t\\t\\t\\t,\\r\\n\\t\\t\\t\\t\\t\\t\\tCAMPINAS\\r\\n\\t\\t\\t\\t\\t\\t\\t,\\r\\n\\t\\t\\t\\t\\t\\t\\tSP</div>\\r\\n    </div>\\r\\n    <table border=\"0\" align=\"center\" cellpadding=\"0\" cellspacing=\"0\" id=\"tabResult\" data-filter=\"true\">\\r\\n      <tr id=\"Item + 1\">\\r\\n        <td valign=\"top\">\\r\\n          <span class=\"txtTit\">V1003500530044 CALCADOS TENIS LEATHER SCARAB. VN000CWDPRMS</span>\\r\\n          <span class=\"RCod\">\\r\\n\\t\\t\\t\\t\\t\\t\\t\\t\\t\\t(C\\xc3\\xb3digo:\\r\\n\\t\\t\\t\\t\\t\\t\\t\\t\\t\\t51548641\\r\\n\\t\\t\\t\\t\\t\\t\\t\\t\\t\\t)\\r\\n\\t\\t\\t\\t\\t\\t\\t\\t\\t</span>\\r\\n          <br>\\r\\n          <span class=\"Rqtd\">\\r\\n            <strong>Qtde.:</strong>1</span>\\r\\n          <span class=\"RUN\">\\r\\n            <strong>UN: </strong>PR</span>\\r\\n          <span class=\"RvlUnit\">\\r\\n            <strong>Vl. Unit.:</strong>\\r\\n\\t\\t\\t\\t\\t\\t\\t\\t\\t\\t\\xc2\\xa0\\r\\n\\t\\t\\t\\t\\t\\t\\t\\t\\t\\t699,99</span>\\r\\n        </td>\\r\\n        <td align=\"right\" valign=\"top\" class=\"txtTit noWrap\">\\r\\n\\t\\t\\t\\t\\t\\t\\t\\t\\tVl. Total\\r\\n\\t\\t\\t\\t\\t\\t\\t\\t\\t<br><span class=\"valor\">699,99</span></td>\\r\\n      </tr>\\r\\n    </table>\\r\\n    <div id=\"totalNota\" class=\"txtRight\">\\r\\n      <div id=\"linhaTotal\">\\r\\n        <label>Qtd. total de itens:</label>\\r\\n        <span class=\"totalNumb\">1</span>\\r\\n      </div>\\r\\n      <div id=\"linhaTotal\" class=\"linhaShade\">\\r\\n        <label>Valor a pagar R$:</label>\\r\\n        <span class=\"totalNumb txtMax\">699,99</span>\\r\\n      </div>\\r\\n      <div id=\"linhaForma\">\\r\\n        <label>Forma de pagamento:</label>\\r\\n        <span class=\"totalNumb txtTitR\">Valor pago R$:</span>\\r\\n      </div>\\r\\n      <div id=\"linhaTotal\">\\r\\n        <label class=\"tx\">\\r\\n\\t\\t\\t\\t\\t\\t\\t\\t\\t\\t\\tCart\\xc3\\xa3o de Cr\\xc3\\xa9dito\\r\\n\\t\\t\\t\\t\\t\\t\\t\\t\\t\\t</label>\\r\\n        <span class=\"totalNumb\">699,99</span>\\r\\n      </div>\\r\\n      <div id=\"linhaTotal\">\\r\\n        <label class=\"tx\">Troco </label>\\r\\n        <span class=\"totalNumb\">NaN</span>\\r\\n      </div>\\r\\n      <div id=\"linhaTotal\" class=\"spcTop\">\\r\\n        <label class=\"txtObs\">Informa\\xc3\\xa7\\xc3\\xa3o dos Tributos Totais Incidentes\\r\\n\\t\\t\\t\\t\\t\\t\\t\\t\\t(Lei Federal 12.741/2012)\\xc2\\xa0R$</label>\\r\\n        <span class=\"totalNumb txtObs\">155,40</span>\\r\\n      </div>\\r\\n    </div>\\r\\n  </div>\\r\\n  <div id=\"infos\" class=\"txtCenter\">\\r\\n    <div data-role=\"collapsible\" data-collapsed-icon=\"carat-d\" data-expanded-icon=\"carat-u\" data-collapsed=\"false\">\\r\\n      <h4>Informa\\xc3\\xa7\\xc3\\xb5es gerais da Nota</h4>\\r\\n      <ul data-role=\"listview\" data-inset=\"false\">\\r\\n        <li>\\r\\n          <strong>EMISS\\xc3\\x83O NORMAL</strong>\\r\\n          <br>\\r\\n          <br>\\r\\n          <strong>N\\xc3\\xbamero: </strong>7926<strong> S\\xc3\\xa9rie: </strong>1<strong> Emiss\\xc3\\xa3o: </strong>08/03/2025 15:15:56\\r\\n\\t\\t\\t\\t\\t\\t\\t\\t- Via Consumidor\\r\\n\\t\\t\\t\\t\\t\\t\\t\\t<br><br><strong>Protocolo de Autoriza\\xc3\\xa7\\xc3\\xa3o: </strong>135250339131361       08/03/2025 15:15:58<br><br><strong>\\r\\n\\t\\t\\t\\t\\t\\t\\t\\t\\t\\tAmbiente de Produ\\xc3\\xa7\\xc3\\xa3o -\\r\\n\\t\\t\\t\\t\\t\\t\\t\\t\\t\\r\\n\\t\\t\\t\\t\\t\\t\\t\\t\\tVers\\xc3\\xa3o XML:\\r\\n\\t\\t\\t\\t\\t\\t\\t\\t\\t4.00\\r\\n\\t\\t\\t\\t\\t\\t\\t\\t\\t- Vers\\xc3\\xa3o XSLT: 2.05\\r\\n\\t\\t\\t\\t\\t\\t\\t\\t</strong></li>\\r\\n      </ul>\\r\\n    </div>\\r\\n    <div data-role=\"collapsible\" data-collapsed-icon=\"carat-d\" data-expanded-icon=\"carat-u\" data-collapsed=\"false\">\\r\\n      <h4>Chave de acesso</h4>\\r\\n      <ul data-role=\"listview\" data-inset=\"false\">\\r\\n        <li>\\r\\n\\t\\t\\t\\t\\t\\t\\t\\tConsulte pela Chave de Acesso em\\r\\n\\t\\t\\t\\t\\t\\t\\t\\t\\r\\n\\t\\t\\t\\t\\t\\t\\t\\thttps://www.nfce.fazenda.sp.gov.br/consulta<br><br><strong>Chave de acesso:</strong><br><span class=\"chave\">3525 0331 6464 5300 0113 6500 1000 0079 2610 1007 9269</span></li>\\r\\n      </ul>\\r\\n    </div>\\r\\n    <div data-role=\"collapsible\" data-collapsed-icon=\"carat-d\" data-expanded-icon=\"carat-u\" data-collapsed=\"false\">\\r\\n      <h4>Consumidor</h4>\\r\\n      <ul data-role=\"listview\" data-inset=\"false\">\\r\\n        <li>\\r\\n          <strong>CPF: </strong>105.169.946-03</li>\\r\\n        <li>\\r\\n          <strong>Nome: </strong>00067350-VITOR HUGO SOUZA</li>\\r\\n      </ul>\\r\\n    </div>\\r\\n    <div data-role=\"collapsible\" data-collapsed-icon=\"carat-d\" data-expanded-icon=\"carat-u\" data-collapsed=\"false\">\\r\\n      <h4>Informa\\xc3\\xa7\\xc3\\xb5es de interesse do contribuinte</h4>\\r\\n      <ul data-role=\"listview\" data-inset=\"false\">\\r\\n        <li>|Trib. Federais Aprox: 29,40|Trib. Estaduais Aprox: 126,00|Trib. Municipais Aprox:  0.00||Cartao TEF;100.05;07;009;311617;00002;063807;311617;515467;1;070425;T;|Cartao TEF;99.99;07;009;311617;00002;063807;311617;515467;2;070525;T;|Cartao TEF;99.99;07;009;311617;00002;063807;311617;515467;3;060625;T;|Cartao TEF;99.99;07;009;311617;00002;063807;311617;515467;4;070725;T;|Cartao TEF;99.99;07;009;311617;00002;063807;311617;515467;5;050825;T;|Cartao TEF;99.99;07;009;311617;00002;063807;311617;515467;6;040925;T;|Cartao TEF;99.99;07;009;311617;00002;063807;311617;515467;7;061025;T;||Localizador: 020803151555294|OPERACAO:1|OBS:|A:00000699990000000000||Linx SetaDigital|www.setadigital.com.br|||VendedorVenda: 00048811||</li>\\r\\n      </ul>\\r\\n    </div>\\r\\n  </div>\\r\\n</div>\\r\\n            </div>\\r\\n        </div>\\r\\n        <div style=\"width: 100%; max-width: 510px; margin: 10px auto; background-color: white;\">\\r\\n            <div>\\r\\n                <div style=\"width: 50%; float: left; text-align: left\">\\r\\n                    \\r\\n<span class=\"timestampConsulta\">Data/Hora: 15/03/2025 21:07</span>\\r\\n\\r\\n                </div>\\r\\n                <div style=\"width: 50%; float: right; text-align: right;\">\\r\\n                    \\r\\n\\r\\n                </div>\\r\\n            </div>\\r\\n            <div id=\"Botoes\" class=\"naoImprimir BotoesResponsivos\" style=\"float: left; margin-top: 20px; margin-bottom: 80px; width: 100%;\">\\r\\n                <div style=\"width: 39%; float: left;\">\\r\\n                    <input type=\"button\" name=\"btnImprimir\" value=\"Imprimir&#32;DANFE&#32;NFC-e\" onclick=\"window.print();&#32;return&#32;true;__doPostBack(&#39;btnImprimir&#39;,&#39;&#39;)\" id=\"btnImprimir\" class=\"primario&#32;|&#32;imprimir\" />\\r\\n                </div>\\r\\n                <div style=\"width: 34%; float: left;\">\\r\\n                    <input type=\"button\" name=\"btnVisualizarAbas\" value=\"Visualizar&#32;em&#32;Abas\" onclick=\"javascript:__doPostBack(&#39;btnVisualizarAbas&#39;,&#39;&#39;)\" id=\"btnVisualizarAbas\" class=\"primario&#32;|&#32;visualizar\" />\\r\\n                </div>\\r\\n                <div style=\"width: 25%; float: left\">\\r\\n                    <input type=\"button\" name=\"btnNovaConsulta\" value=\"Nova&#32;consulta\" onclick=\"javascript:__doPostBack(&#39;btnNovaConsulta&#39;,&#39;&#39;)\" id=\"btnNovaConsulta\" class=\"primario&#32;|&#32;consultar\" />\\r\\n                </div>\\r\\n            </div>\\r\\n        </div>\\r\\n    \\r\\n<div class=\"aspNetHidden\">\\r\\n\\r\\n\\t<input type=\"hidden\" name=\"__VIEWSTATEGENERATOR\" id=\"__VIEWSTATEGENERATOR\" value=\"2CB5E186\" />\\r\\n\\t<input type=\"hidden\" name=\"__EVENTVALIDATION\" id=\"__EVENTVALIDATION\" value=\"yK9lmx6d4/2k0vgGcXPofA5xa96YJVISa1aZbB271tPEG5dv0CBnvtiI7HyGBDuzjVGCMqlwkMcaC3VEDlfHbzThCjcI6Z2FDpqxj0P4lySEqlOJpiuNwe9UBcDN97XSz6z65hd4PMY9mfXG6ZliP+JFPFG9VK2w87erlV+QP/8=\" />\\r\\n</div></form>\\r\\n    <script type=\"text/javascript\">\\r\\n      \\r\\n        function ExibirImagemCancelada() {\\r\\n            var objImg = document.getElementById(\\'imgInvalido1\\');\\r\\n            if ($(\\'#hdfNotaCancelada\\').length) {\\r\\n                AcertarDivErro(objImg);\\r\\n            }\\r\\n        }\\r\\n\\r\\n        function ExibirImagemDenegada() {\\r\\n            var objImg = document.getElementById(\\'imgInvalido2\\');\\r\\n            if ($(\\'#hdfNotaDenegada\\').length) {\\r\\n                AcertarDivErro(objImg);\\r\\n            }\\r\\n        }\\r\\n\\r\\n        function AjustarExibicaoEPEC()\\r\\n        {\\r\\n            if ($(\\'#hdfSomenteEPEC\\').length) {\\r\\n                $(\\'.ui-page\\').css({ \"minHeight\": \"500px\" });\\r\\n            }\\r\\n        }\\r\\n\\r\\n        function AcertarDivErro(objImg) {\\r\\n            $(\\'#erro\\').css({ \"display\": \"block\" });\\r\\n            $(\\'#erro\\').css({ \"maxWidth\": \"510px\" });\\r\\n            $(\\'#erro\\').css({ \"maxHeight\": \"200px\" });\\r\\n            objImg.style.display = \\'block\\';\\r\\n        }\\r\\n    </script>\\r\\n</body>\\r\\n</html>\\r\\n'"
      ]
     },
     "execution_count": 23,
     "metadata": {},
     "output_type": "execute_result"
    }
   ],
   "source": [
    "req.content"
   ]
  },
  {
   "cell_type": "code",
   "execution_count": null,
   "metadata": {},
   "outputs": [],
   "source": [
    "import database.db_adapters as db_adapters\n",
    "import json\n",
    "mongodb = db_adapters.MongoDatabase()\n",
    "from pathlib import Path\n",
    "\n",
    "folder_path = Path(\"dump\")  # Change to your folder path\n",
    "\n",
    "for file in folder_path.iterdir():\n",
    "    with open(file, \"r\", encoding=\"utf-8\") as f:\n",
    "        data = json.load(f)\n",
    "        insert = mongodb.insert_dict(data)\n",
    "\n",
    "# with open('dump/35250307732866000136590006312094503121223778.json', 'r', encoding='utf-8') as f:\n",
    "#     \n",
    "\n"
   ]
  }
 ],
 "metadata": {
  "kernelspec": {
   "display_name": ".venv",
   "language": "python",
   "name": "python3"
  },
  "language_info": {
   "codemirror_mode": {
    "name": "ipython",
    "version": 3
   },
   "file_extension": ".py",
   "mimetype": "text/x-python",
   "name": "python",
   "nbconvert_exporter": "python",
   "pygments_lexer": "ipython3",
   "version": "3.10.12"
  }
 },
 "nbformat": 4,
 "nbformat_minor": 2
}
